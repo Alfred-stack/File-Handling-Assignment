{
  "nbformat": 4,
  "nbformat_minor": 0,
  "metadata": {
    "colab": {
      "provenance": []
    },
    "kernelspec": {
      "name": "python3",
      "display_name": "Python 3"
    },
    "language_info": {
      "name": "python"
    }
  },
  "cells": [
    {
      "cell_type": "code",
      "source": [
        "# The following functions perform file handling.\n",
        "\n",
        "def modify_content(content):\n",
        "    return content.upper() # wil return all uppercase\n",
        "\n",
        "def main():\n",
        "    try:\n",
        "        # Asking user for the input filename\n",
        "        input_filename = input(\"Enter the name of the file to read: \")\n",
        "\n",
        "        # Open and read the input file\n",
        "        with open(input_filename, 'r') as infile:\n",
        "            content = infile.read()\n",
        "\n",
        "        # Modifying the content\n",
        "        modified_content = modify_content(content)\n",
        "\n",
        "        # Create a new filename for the output\n",
        "        output_filename = \"modified_\" + input_filename\n",
        "\n",
        "        # Write the modified content to the new file\n",
        "        with open(output_filename, 'w') as outfile:\n",
        "            outfile.write(modified_content)\n",
        "\n",
        "        print(f\"Modified content successfully written to '{output_filename}'.\")\n",
        "\n",
        "    except FileNotFoundError:\n",
        "        print(f\"Error: The file '{input_filename}' was not found.\")\n",
        "    except IOError:\n",
        "        print(f\"Error: Could not read or write files properly.\")\n",
        "    except Exception as e:\n",
        "        print(f\"An unexpected error occurred: {e}\")\n",
        "\n",
        "if __name__ == \"__main__\":\n",
        "    main()\n"
      ],
      "metadata": {
        "colab": {
          "base_uri": "https://localhost:8080/"
        },
        "id": "RuS3g4um02ve",
        "outputId": "9069c9cc-ceef-4493-fce4-2c0789cb144a"
      },
      "execution_count": 4,
      "outputs": [
        {
          "output_type": "stream",
          "name": "stdout",
          "text": [
            "Enter the name of the file to read: AI SIS Assignment\n",
            "Error: The file 'AI SIS Assignment' was not found.\n"
          ]
        }
      ]
    },
    {
      "cell_type": "code",
      "source": [],
      "metadata": {
        "colab": {
          "base_uri": "https://localhost:8080/"
        },
        "id": "rOL1C0bN5yw0",
        "outputId": "b4285e35-dfc0-429d-93c7-d1d97750454c"
      },
      "execution_count": null,
      "outputs": [
        {
          "output_type": "stream",
          "name": "stdout",
          "text": [
            "Mounted at /content/drive\n"
          ]
        }
      ]
    }
  ]
}